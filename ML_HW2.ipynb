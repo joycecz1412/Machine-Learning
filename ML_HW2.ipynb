{
 "cells": [
  {
   "cell_type": "code",
   "execution_count": 2,
   "id": "bc412f63",
   "metadata": {},
   "outputs": [],
   "source": [
    "import numpy as np\n",
    "import pandas as pd\n",
    "import seaborn as sns\n",
    "import matplotlib.pyplot as plt"
   ]
  },
  {
   "cell_type": "code",
   "execution_count": 3,
   "id": "48c68b5b",
   "metadata": {},
   "outputs": [],
   "source": [
    "#Question 1) \n",
    "pcc_train = pd.read_csv('PCC_study_train.csv')\n",
    "pcc_train = pcc_train.drop(columns='Unnamed: 0')"
   ]
  },
  {
   "cell_type": "code",
   "execution_count": 4,
   "id": "06caaaff",
   "metadata": {},
   "outputs": [
    {
     "data": {
      "text/plain": [
       "vax_status    WBscore    PCCsymp\n",
       "Unvaccinated  Unchanged  Same       11\n",
       "              Worsened   More        6\n",
       "                         Same        6\n",
       "              Unchanged  Less        5\n",
       "                         More        4\n",
       "              Improved   Less        3\n",
       "                         Same        3\n",
       "                         More        1\n",
       "Vaccinated    Improved   Less       27\n",
       "              Unchanged  Less        3\n",
       "              Improved   Same        1\n",
       "              Unchanged  More        1\n",
       "                         Same        1\n",
       "              Worsened   Less        1\n",
       "                         More        1\n",
       "                         Same        1\n",
       "Name: count, dtype: int64"
      ]
     },
     "execution_count": 4,
     "metadata": {},
     "output_type": "execute_result"
    }
   ],
   "source": [
    "table = pcc_train.groupby(by='vax_status').value_counts()\n",
    "table"
   ]
  },
  {
   "cell_type": "code",
   "execution_count": 5,
   "id": "d7fd14e0",
   "metadata": {},
   "outputs": [
    {
     "data": {
      "text/plain": [
       "0.75"
      ]
     },
     "execution_count": 5,
     "metadata": {},
     "output_type": "execute_result"
    }
   ],
   "source": [
    "#a) p(improved&less|vaccinated) 36 vaccinated, reading table above, \n",
    "#the number that improved and has fewer symptoms is 27. \n",
    "p_a = 27/36\n",
    "p_a"
   ]
  },
  {
   "cell_type": "code",
   "execution_count": 6,
   "id": "3b71fc06",
   "metadata": {},
   "outputs": [
    {
     "data": {
      "text/plain": [
       "0.07692307692307693"
      ]
     },
     "execution_count": 6,
     "metadata": {},
     "output_type": "execute_result"
    }
   ],
   "source": [
    "#b) p(improved&less|unvaccinated) 39 unvaccinated\n",
    "#improved and less for unvaccinated is 3 \n",
    "p_b = 3/39\n",
    "p_b"
   ]
  },
  {
   "cell_type": "code",
   "execution_count": 7,
   "id": "98502a3c",
   "metadata": {},
   "outputs": [
    {
     "data": {
      "text/html": [
       "<div>\n",
       "<style scoped>\n",
       "    .dataframe tbody tr th:only-of-type {\n",
       "        vertical-align: middle;\n",
       "    }\n",
       "\n",
       "    .dataframe tbody tr th {\n",
       "        vertical-align: top;\n",
       "    }\n",
       "\n",
       "    .dataframe thead th {\n",
       "        text-align: right;\n",
       "    }\n",
       "</style>\n",
       "<table border=\"1\" class=\"dataframe\">\n",
       "  <thead>\n",
       "    <tr style=\"text-align: right;\">\n",
       "      <th></th>\n",
       "      <th>vax_status</th>\n",
       "      <th>Unvaccinated</th>\n",
       "      <th>Vaccinated</th>\n",
       "    </tr>\n",
       "    <tr>\n",
       "      <th>symptom_type</th>\n",
       "      <th>symptom_value</th>\n",
       "      <th></th>\n",
       "      <th></th>\n",
       "    </tr>\n",
       "  </thead>\n",
       "  <tbody>\n",
       "    <tr>\n",
       "      <th rowspan=\"3\" valign=\"top\">PCCsymp</th>\n",
       "      <th>Less</th>\n",
       "      <td>0.205128</td>\n",
       "      <td>0.861111</td>\n",
       "    </tr>\n",
       "    <tr>\n",
       "      <th>More</th>\n",
       "      <td>0.282051</td>\n",
       "      <td>0.055556</td>\n",
       "    </tr>\n",
       "    <tr>\n",
       "      <th>Same</th>\n",
       "      <td>0.512821</td>\n",
       "      <td>0.083333</td>\n",
       "    </tr>\n",
       "    <tr>\n",
       "      <th rowspan=\"3\" valign=\"top\">WBscore</th>\n",
       "      <th>Improved</th>\n",
       "      <td>0.179487</td>\n",
       "      <td>0.777778</td>\n",
       "    </tr>\n",
       "    <tr>\n",
       "      <th>Unchanged</th>\n",
       "      <td>0.512821</td>\n",
       "      <td>0.138889</td>\n",
       "    </tr>\n",
       "    <tr>\n",
       "      <th>Worsened</th>\n",
       "      <td>0.307692</td>\n",
       "      <td>0.083333</td>\n",
       "    </tr>\n",
       "  </tbody>\n",
       "</table>\n",
       "</div>"
      ],
      "text/plain": [
       "vax_status                  Unvaccinated  Vaccinated\n",
       "symptom_type symptom_value                          \n",
       "PCCsymp      Less               0.205128    0.861111\n",
       "             More               0.282051    0.055556\n",
       "             Same               0.512821    0.083333\n",
       "WBscore      Improved           0.179487    0.777778\n",
       "             Unchanged          0.512821    0.138889\n",
       "             Worsened           0.307692    0.083333"
      ]
     },
     "execution_count": 7,
     "metadata": {},
     "output_type": "execute_result"
    }
   ],
   "source": [
    "#c\n",
    "pcc_train_melted = pcc_train.melt(id_vars='vax_status', \n",
    "                                        var_name='symptom_type', \n",
    "                                        value_name='symptom_value')\n",
    "\n",
    "pcc_train_pivot = pcc_train_melted.pivot_table(\n",
    "    index=['symptom_type', 'symptom_value'],\n",
    "    columns='vax_status',\n",
    "    aggfunc='size',\n",
    "    fill_value=0\n",
    ").div([39, 36], axis=1)\n",
    "pcc_train_pivot"
   ]
  },
  {
   "cell_type": "code",
   "execution_count": 8,
   "id": "50eb581e",
   "metadata": {},
   "outputs": [],
   "source": [
    "def vax_status_prob(WBscore,PCCsymp):\n",
    "    test_case = [WBscore,PCCsymp]\n",
    "    f_y, f_n = 0.48, 0.52\n",
    "    for i, symptom_name in enumerate(pcc_train.columns[1:]):\n",
    "        f_y *= pcc_train_pivot['Vaccinated'][symptom_name][test_case[i]] \n",
    "        f_n *= pcc_train_pivot['Unvaccinated'][symptom_name][test_case[i]]\n",
    "        # normalize the probabilities (marginalization)\n",
    "    p_y = f_y / (f_y + f_n)\n",
    "    p_n = f_n / (f_y + f_n)\n",
    "    print('P(Vax_status = Vaccinated | symptoms) = %.3f'%(p_y))\n",
    "    if p_y > p_n:\n",
    "        print('Prediction: Vaccinated')  \n",
    "    else:\n",
    "        print('Prediction: Unvaccinated') "
   ]
  },
  {
   "cell_type": "code",
   "execution_count": 9,
   "id": "a1d1f62e",
   "metadata": {},
   "outputs": [
    {
     "name": "stdout",
     "output_type": "stream",
     "text": [
      "P(Vax_status = Vaccinated | symptoms) = 0.394\n",
      "Prediction: Unvaccinated\n"
     ]
    }
   ],
   "source": [
    "#e)\n",
    "vax_status_prob('Improved','Same')"
   ]
  },
  {
   "cell_type": "code",
   "execution_count": 10,
   "id": "91e3ced0",
   "metadata": {},
   "outputs": [],
   "source": [
    "#f) \n",
    "def vax_class(WBscore,PCCsymp):\n",
    "    test_case = [WBscore,PCCsymp]\n",
    "    f_y, f_n = 0.48, 0.52\n",
    "    for i, symptom_name in enumerate(pcc_train.columns[1:]):\n",
    "        f_y *= pcc_train_pivot['Vaccinated'][symptom_name][test_case[i]] \n",
    "        f_n *= pcc_train_pivot['Unvaccinated'][symptom_name][test_case[i]]\n",
    "        # normalize the probabilities (marginalization)\n",
    "    p_y = f_y / (f_y + f_n)\n",
    "    p_n = f_n / (f_y + f_n)\n",
    "    if p_y > p_n:\n",
    "        return 'Vaccinated' \n",
    "    else:\n",
    "        return 'Unvaccinated'\n",
    "pcc_study = pd.read_csv('PCC_study_test.csv').drop(columns='Unnamed: 0')"
   ]
  },
  {
   "cell_type": "code",
   "execution_count": 11,
   "id": "462fd6db",
   "metadata": {},
   "outputs": [],
   "source": [
    "pcc_study['prediction'] = pcc_study.apply(lambda row: vax_class(row['WBscore'], row['PCCsymp']), axis=1)"
   ]
  },
  {
   "cell_type": "code",
   "execution_count": 12,
   "id": "c28c63b7",
   "metadata": {},
   "outputs": [],
   "source": [
    "#convert values to integers first:\n",
    "to_int_dict = {'Worsened': 0, 'Unchanged': 1, 'Improved': 2, 'Less': 0, 'Same': 1, 'More': 2, \n",
    "               'Unvaccinated': 0, 'Vaccinated': 1}\n",
    "int_pcc_train = pcc_train.applymap(lambda x: to_int_dict[x])\n",
    "int_pcc_test = pcc_study.applymap(lambda x: to_int_dict[x])"
   ]
  },
  {
   "cell_type": "code",
   "execution_count": 13,
   "id": "047559c3",
   "metadata": {},
   "outputs": [
    {
     "name": "stdout",
     "output_type": "stream",
     "text": [
      "Testing datapoint:      WBscore  PCCsymp\n",
      "0         2        0\n",
      "1         2        0\n",
      "2         2        0\n",
      "3         0        0\n",
      "4         1        0\n",
      "5         2        0\n",
      "6         2        0\n",
      "7         2        0\n",
      "8         1        2\n",
      "9         2        0\n",
      "10        2        0\n",
      "11        2        0\n",
      "12        2        0\n",
      "13        2        0\n",
      "14        1        0\n",
      "15        2        0\n",
      "16        2        0\n",
      "17        2        0\n",
      "18        2        0\n",
      "19        2        0\n",
      "20        2        0\n",
      "21        1        0\n",
      "22        2        0\n",
      "23        0        1\n",
      "24        2        0\n",
      "25        2        0\n",
      "26        2        0\n",
      "27        2        1\n",
      "28        2        2\n",
      "29        2        0\n",
      "30        0        2\n",
      "31        2        0\n",
      "32        1        1\n",
      "33        1        0\n",
      "34        0        2\n",
      "35        1        1\n",
      "36        1        1\n",
      "37        2        1\n",
      "38        1        0\n",
      "39        1        0\n",
      "40        2        1\n",
      "41        0        2\n",
      "42        0        0\n",
      "43        1        1\n",
      "44        2        1\n",
      "45        1        0\n",
      "46        1        0\n",
      "47        0        2\n",
      "48        1        2\n",
      "49        1        2\n",
      "50        2        1\n",
      "51        0        2\n",
      "52        0        1\n",
      "53        1        0\n",
      "54        0        2\n",
      "55        1        2\n",
      "56        1        2\n",
      "57        2        0\n",
      "58        0        2\n",
      "59        2        2 Model prediction:  [1 1 1 1 1 1 1 1 0 1 1 1 1 1 1 1 1 1 1 1 1 1 1 0 1 1 1 0 0 1 0 1 0 1 0 0 0\n",
      " 0 1 1 0 0 1 0 0 1 1 0 0 0 0 0 0 1 0 0 0 1 0 0] \n",
      "\n"
     ]
    }
   ],
   "source": [
    "from sklearn.model_selection import train_test_split\n",
    "from sklearn.naive_bayes import CategoricalNB\n",
    "\n",
    "###############################################\n",
    "# Split data to training and testing datasets #\n",
    "###############################################\n",
    "X_train = int_pcc_train.iloc[:,1:3]\n",
    "X_test = int_pcc_test.iloc[:,1:3]\n",
    "y_train = int_pcc_train.iloc[:,0]\n",
    "\n",
    "##############################################\n",
    "# Initialize an instance of the model object #\n",
    "##############################################\n",
    "model = CategoricalNB()\n",
    "\n",
    "##########################################\n",
    "# Train the model / fit model parameters #\n",
    "##########################################\n",
    "model.fit(X_train, y_train)\n",
    "\n",
    "##################\n",
    "# Test the model #\n",
    "##################\n",
    "\n",
    "print('Testing datapoint: ', X_test, 'Model prediction: ', model.predict(X_test), '\\n')"
   ]
  },
  {
   "cell_type": "code",
   "execution_count": 14,
   "id": "8394dcfa",
   "metadata": {},
   "outputs": [],
   "source": [
    "prediction = model.predict(X_test)\n",
    "int_pcc_test['Classifier Prediction'] = prediction"
   ]
  },
  {
   "cell_type": "code",
   "execution_count": 15,
   "id": "61a14034",
   "metadata": {},
   "outputs": [],
   "source": [
    "assert (int_pcc_test['prediction'] == int_pcc_test['Classifier Prediction']).all()\n",
    "#the cell runs so this must be true "
   ]
  },
  {
   "cell_type": "code",
   "execution_count": 16,
   "id": "7d34cd53",
   "metadata": {},
   "outputs": [],
   "source": [
    "#Question 2) \n",
    "iris = pd.read_csv('iris.csv')\n",
    "iris = iris.drop(columns='rownames')\n",
    "iris_train = iris.sample(n=105,replace=False)\n",
    "iris_test = iris.drop(iris_train.index).reset_index()\n",
    "iris_test = iris.drop(iris_train.index)\n",
    "new_row = [6.56,3.18,4.31,1.32,'flower']\n",
    "iris_test.loc[len(iris_test)] = new_row \n",
    "iris_test = iris_test.reset_index()"
   ]
  },
  {
   "cell_type": "code",
   "execution_count": 17,
   "id": "9afdf9bf",
   "metadata": {},
   "outputs": [],
   "source": [
    "setosa = iris_train[iris_train['Species']=='setosa']\n",
    "versicolor = iris_train[iris_train['Species']=='versicolor']\n",
    "virginica = iris_train[iris_train['Species']=='virginica']"
   ]
  },
  {
   "cell_type": "code",
   "execution_count": 47,
   "id": "14e8a14f",
   "metadata": {},
   "outputs": [
    {
     "data": {
      "text/plain": [
       "<matplotlib.legend.Legend at 0x13bd68650>"
      ]
     },
     "execution_count": 47,
     "metadata": {},
     "output_type": "execute_result"
    },
    {
     "data": {
      "image/png": "[encoded data removed]",
      "text/plain": [
       "<Figure size 640x480 with 1 Axes>"
      ]
     },
     "metadata": {},
     "output_type": "display_data"
    }
   ],
   "source": [
    "#b) \n",
    "sns.kdeplot(setosa['Petal.Length'],fill='True',linewidth=2,label='Setosa')\n",
    "sns.kdeplot(versicolor['Petal.Length'],fill='True',linewidth=2,label='Versicolor')\n",
    "sns.kdeplot(virginica['Petal.Length'],fill='True',linewidth=2,label='Virginica')\n",
    "plt.title('Density Plot of Petal Length')\n",
    "plt.xlabel('Petal Length (cm?)')\n",
    "plt.ylabel('Density')\n",
    "plt.legend()"
   ]
  },
  {
   "cell_type": "markdown",
   "id": "d2f158cf",
   "metadata": {},
   "source": [
    "The distributions of petal length are all unimodal, with peaks around 1.5, 4.3, and 5.5 respectively. Setosa's distribution is less varied than that of Versicolor and Virginica, which is why its density peak is so much higher. Setosa's distribution does not overlap with the other two, making petal length a good predictor for determining if a flower is Setosa or not. Versicolor's distribution is left-skewed, whereas Virginica's is right-skewed. Setosa is relatively centered. "
   ]
  },
  {
   "cell_type": "code",
   "execution_count": 19,
   "id": "6b63253c",
   "metadata": {},
   "outputs": [
    {
     "data": {
      "text/plain": [
       "Species\n",
       "setosa        1.451515\n",
       "versicolor    4.284211\n",
       "virginica     5.532353\n",
       "Name: Petal.Length, dtype: float64"
      ]
     },
     "execution_count": 19,
     "metadata": {},
     "output_type": "execute_result"
    }
   ],
   "source": [
    "#c) \n",
    "iris_train.groupby(by='Species')['Petal.Length'].mean()"
   ]
  },
  {
   "cell_type": "code",
   "execution_count": 20,
   "id": "e6d0af19",
   "metadata": {},
   "outputs": [
    {
     "data": {
      "text/plain": [
       "Species\n",
       "setosa        0.152318\n",
       "versicolor    0.492937\n",
       "virginica     0.555807\n",
       "Name: Petal.Length, dtype: float64"
      ]
     },
     "execution_count": 20,
     "metadata": {},
     "output_type": "execute_result"
    }
   ],
   "source": [
    "iris_train.groupby(by='Species')['Petal.Length'].std()"
   ]
  },
  {
   "cell_type": "markdown",
   "id": "19279f1d",
   "metadata": {},
   "source": [
    "d) Given an iris wth petal length 4.31, I would classify it as versicolor as the mean of its distribution is 4.28, which is very close to 4.31. 4.31 is not in the distribution of setosa, and is more than 2 standard deviations away from the mean length of virginica, which means the probability that it is versicolor is the highest. "
   ]
  },
  {
   "cell_type": "code",
   "execution_count": 48,
   "id": "53a0743f",
   "metadata": {},
   "outputs": [
    {
     "data": {
      "text/plain": [
       "<matplotlib.legend.Legend at 0x13eaa3dd0>"
      ]
     },
     "execution_count": 48,
     "metadata": {},
     "output_type": "execute_result"
    },
    {
     "data": {
      "image/png": "[encoded data removed]",
      "text/plain": [
       "<Figure size 640x480 with 1 Axes>"
      ]
     },
     "metadata": {},
     "output_type": "display_data"
    }
   ],
   "source": [
    "#e) more density plots! \n",
    "#petal width\n",
    "sns.kdeplot(setosa['Petal.Width'],fill='True',linewidth=2,label='Setosa')\n",
    "sns.kdeplot(versicolor['Petal.Width'],fill='True',linewidth=2,label='Versicolor')\n",
    "sns.kdeplot(virginica['Petal.Width'],fill='True',linewidth=2,label='Virginica')\n",
    "plt.title('Density Plot of Petal Width')\n",
    "plt.xlabel('Petal Width (cm?)')\n",
    "plt.ylabel('Density')\n",
    "plt.legend()"
   ]
  },
  {
   "cell_type": "code",
   "execution_count": 49,
   "id": "7b003377",
   "metadata": {},
   "outputs": [
    {
     "data": {
      "text/plain": [
       "<matplotlib.legend.Legend at 0x13ea6a310>"
      ]
     },
     "execution_count": 49,
     "metadata": {},
     "output_type": "execute_result"
    },
    {
     "data": {
      "image/png": "[encoded data removed]",
      "text/plain": [
       "<Figure size 640x480 with 1 Axes>"
      ]
     },
     "metadata": {},
     "output_type": "display_data"
    }
   ],
   "source": [
    "#sepal length\n",
    "sns.kdeplot(setosa['Sepal.Length'],fill='True',linewidth=2,label='Setosa')\n",
    "sns.kdeplot(versicolor['Sepal.Length'],fill='True',linewidth=2,label='Versicolor')\n",
    "sns.kdeplot(virginica['Sepal.Length'],fill='True',linewidth=2,label='Virginica')\n",
    "plt.title('Density Plot of Sepal Length')\n",
    "plt.xlabel('Sepal Length (cm?)')\n",
    "plt.ylabel('Density')\n",
    "plt.legend()"
   ]
  },
  {
   "cell_type": "code",
   "execution_count": 52,
   "id": "ac0950a8",
   "metadata": {},
   "outputs": [
    {
     "data": {
      "text/plain": [
       "<matplotlib.legend.Legend at 0x13ea778d0>"
      ]
     },
     "execution_count": 52,
     "metadata": {},
     "output_type": "execute_result"
    },
    {
     "data": {
      "image/png": "[encoded data removed]",
      "text/plain": [
       "<Figure size 640x480 with 1 Axes>"
      ]
     },
     "metadata": {},
     "output_type": "display_data"
    }
   ],
   "source": [
    "#sepal width\n",
    "sns.kdeplot(setosa['Sepal.Width'],fill='True',linewidth=2,label='Setosa')\n",
    "sns.kdeplot(versicolor['Sepal.Width'],fill='True',linewidth=2,label='Versicolor')\n",
    "sns.kdeplot(virginica['Sepal.Width'],fill='True',linewidth=2,label='Virginica')\n",
    "plt.title('Density Plot of Sepal Width')\n",
    "plt.xlabel('Sepal Width (cm?)')\n",
    "plt.ylabel('Density')\n",
    "plt.legend()"
   ]
  },
  {
   "cell_type": "code",
   "execution_count": 24,
   "id": "5c813896",
   "metadata": {},
   "outputs": [
    {
     "name": "stdout",
     "output_type": "stream",
     "text": [
      "Testing datapoint:      Sepal.Length  Sepal.Width  Petal.Length  Petal.Width\n",
      "45          6.56         3.18          4.31         1.32 Model prediction:  ['versicolor'] \n",
      "\n"
     ]
    }
   ],
   "source": [
    "#f) Guassian Naive Bayes Classifier\n",
    "from sklearn.model_selection import train_test_split\n",
    "from sklearn.naive_bayes import GaussianNB # <--- the model is implemented here\n",
    "\n",
    "###############################################\n",
    "# Split data to training and testing datasets #\n",
    "###############################################\n",
    "X_train = iris_train.iloc[:,0:4]\n",
    "X_test = iris_test.iloc[:,1:5]\n",
    "y_train = iris_train.iloc[:,4]\n",
    "\n",
    "##############################################\n",
    "# Initialize an instance of the model object #\n",
    "##############################################\n",
    "model = GaussianNB()\n",
    "\n",
    "##########################################\n",
    "# Train the model / fit model parameters #\n",
    "##########################################\n",
    "model.fit(X_train, y_train)\n",
    "\n",
    "##################\n",
    "# Test the model #\n",
    "##################\n",
    "\n",
    "print('Testing datapoint: ', X_test.iloc[[-1]], 'Model prediction: ', model.predict(X_test.iloc[[-1]]), '\\n')\n",
    "#last row is the data point we want. "
   ]
  },
  {
   "cell_type": "markdown",
   "id": "03a156fb",
   "metadata": {},
   "source": [
    "My classifier predicted the datapoint as versicolor. "
   ]
  },
  {
   "cell_type": "code",
   "execution_count": 25,
   "id": "dd801e48",
   "metadata": {},
   "outputs": [
    {
     "name": "stdout",
     "output_type": "stream",
     "text": [
      "Testing datapoint:      Sepal.Length  Sepal.Width  Petal.Length  Petal.Width\n",
      "0           4.60         3.10          1.50         0.20\n",
      "1           5.00         3.60          1.40         0.20\n",
      "2           5.40         3.90          1.70         0.40\n",
      "3           4.60         3.40          1.40         0.30\n",
      "4           4.80         3.40          1.60         0.20\n",
      "5           5.80         4.00          1.20         0.20\n",
      "6           5.70         4.40          1.50         0.40\n",
      "7           5.10         3.50          1.40         0.30\n",
      "8           5.40         3.40          1.70         0.20\n",
      "9           4.60         3.60          1.00         0.20\n",
      "10          5.10         3.30          1.70         0.50\n",
      "11          4.80         3.40          1.90         0.20\n",
      "12          5.00         3.40          1.60         0.40\n",
      "13          5.20         3.40          1.40         0.20\n",
      "14          4.90         3.60          1.40         0.10\n",
      "15          5.00         3.50          1.30         0.30\n",
      "16          5.30         3.70          1.50         0.20\n",
      "17          6.50         2.80          4.60         1.50\n",
      "18          6.60         2.90          4.60         1.30\n",
      "19          5.00         2.00          3.50         1.00\n",
      "20          6.00         2.20          4.00         1.00\n",
      "21          6.10         2.90          4.70         1.40\n",
      "22          5.60         2.90          3.60         1.30\n",
      "23          6.70         3.10          4.40         1.40\n",
      "24          6.40         2.90          4.30         1.30\n",
      "25          5.80         2.70          3.90         1.20\n",
      "26          5.40         3.00          4.50         1.50\n",
      "27          5.60         3.00          4.10         1.30\n",
      "28          5.80         2.60          4.00         1.20\n",
      "29          7.60         3.00          6.60         2.10\n",
      "30          4.90         2.50          4.50         1.70\n",
      "31          7.20         3.60          6.10         2.50\n",
      "32          6.80         3.00          5.50         2.10\n",
      "33          6.50         3.00          5.50         1.80\n",
      "34          6.30         2.70          4.90         1.80\n",
      "35          6.70         3.30          5.70         2.10\n",
      "36          7.20         3.20          6.00         1.80\n",
      "37          7.40         2.80          6.10         1.90\n",
      "38          7.90         3.80          6.40         2.00\n",
      "39          6.10         2.60          5.60         1.40\n",
      "40          6.30         3.40          5.60         2.40\n",
      "41          6.40         3.10          5.50         1.80\n",
      "42          5.80         2.70          5.10         1.90\n",
      "43          6.30         2.50          5.00         1.90\n",
      "44          6.20         3.40          5.40         2.30\n",
      "45          6.56         3.18          4.31         1.32 Model prediction:  ['setosa' 'setosa' 'setosa' 'setosa' 'setosa' 'setosa' 'setosa' 'setosa'\n",
      " 'setosa' 'setosa' 'setosa' 'setosa' 'setosa' 'setosa' 'setosa' 'setosa'\n",
      " 'setosa' 'versicolor' 'versicolor' 'versicolor' 'versicolor' 'versicolor'\n",
      " 'versicolor' 'versicolor' 'versicolor' 'versicolor' 'versicolor'\n",
      " 'versicolor' 'versicolor' 'virginica' 'versicolor' 'virginica'\n",
      " 'virginica' 'virginica' 'virginica' 'virginica' 'virginica' 'virginica'\n",
      " 'virginica' 'versicolor' 'virginica' 'virginica' 'virginica' 'virginica'\n",
      " 'virginica' 'versicolor'] \n",
      "\n"
     ]
    }
   ],
   "source": [
    "#Question 3) \n",
    "print('Testing datapoint: ', X_test, 'Model prediction: ', model.predict(X_test), '\\n')"
   ]
  },
  {
   "cell_type": "code",
   "execution_count": 26,
   "id": "8dd02d90",
   "metadata": {},
   "outputs": [],
   "source": [
    "predicted_labels = model.predict(X_test[:-1])#not including the one from q2 cuz we don't know what flower it is\n",
    "actual_labels = iris_test['Species'][:-1]"
   ]
  },
  {
   "cell_type": "code",
   "execution_count": 27,
   "id": "c3ca4949",
   "metadata": {},
   "outputs": [
    {
     "data": {
      "text/html": [
       "<div>\n",
       "<style scoped>\n",
       "    .dataframe tbody tr th:only-of-type {\n",
       "        vertical-align: middle;\n",
       "    }\n",
       "\n",
       "    .dataframe tbody tr th {\n",
       "        vertical-align: top;\n",
       "    }\n",
       "\n",
       "    .dataframe thead th {\n",
       "        text-align: right;\n",
       "    }\n",
       "</style>\n",
       "<table border=\"1\" class=\"dataframe\">\n",
       "  <thead>\n",
       "    <tr style=\"text-align: right;\">\n",
       "      <th></th>\n",
       "      <th>setosa</th>\n",
       "      <th>versicolor</th>\n",
       "      <th>virginica</th>\n",
       "    </tr>\n",
       "  </thead>\n",
       "  <tbody>\n",
       "    <tr>\n",
       "      <th>setosa</th>\n",
       "      <td>17</td>\n",
       "      <td>0</td>\n",
       "      <td>0</td>\n",
       "    </tr>\n",
       "    <tr>\n",
       "      <th>versicolor</th>\n",
       "      <td>0</td>\n",
       "      <td>12</td>\n",
       "      <td>0</td>\n",
       "    </tr>\n",
       "    <tr>\n",
       "      <th>virginica</th>\n",
       "      <td>0</td>\n",
       "      <td>2</td>\n",
       "      <td>14</td>\n",
       "    </tr>\n",
       "  </tbody>\n",
       "</table>\n",
       "</div>"
      ],
      "text/plain": [
       "            setosa  versicolor  virginica\n",
       "setosa          17           0          0\n",
       "versicolor       0          12          0\n",
       "virginica        0           2         14"
      ]
     },
     "execution_count": 27,
     "metadata": {},
     "output_type": "execute_result"
    }
   ],
   "source": [
    "#c) and d) \n",
    "from sklearn.metrics import confusion_matrix\n",
    "conf_matrix = confusion_matrix(actual_labels, predicted_labels)\n",
    "\n",
    "# Compute the confusion matrix\n",
    "conf_matrix = confusion_matrix(actual_labels, predicted_labels)\n",
    "\n",
    "# Create a DataFrame from the confusion matrix\n",
    "conf_matrix_df = pd.DataFrame(conf_matrix, columns=sorted(set(actual_labels)), index=sorted(set(actual_labels)))\n",
    "conf_matrix_df"
   ]
  },
  {
   "cell_type": "markdown",
   "id": "a61c866e",
   "metadata": {},
   "source": [
    "The accuracy of my classifier is 43/45 = 95.56%. The most common error in my code is incorrectly predicting virginica flowers as versicolor flowers, with 2/16 virginica flowers being predicted as versicolor. This is a type 1 error (false positive) with regards to virginica. "
   ]
  },
  {
   "cell_type": "code",
   "execution_count": 28,
   "id": "da616462",
   "metadata": {},
   "outputs": [
    {
     "name": "stdout",
     "output_type": "stream",
     "text": [
      "(5572, 2)\n"
     ]
    },
    {
     "data": {
      "text/html": [
       "<div>\n",
       "<style scoped>\n",
       "    .dataframe tbody tr th:only-of-type {\n",
       "        vertical-align: middle;\n",
       "    }\n",
       "\n",
       "    .dataframe tbody tr th {\n",
       "        vertical-align: top;\n",
       "    }\n",
       "\n",
       "    .dataframe thead th {\n",
       "        text-align: right;\n",
       "    }\n",
       "</style>\n",
       "<table border=\"1\" class=\"dataframe\">\n",
       "  <thead>\n",
       "    <tr style=\"text-align: right;\">\n",
       "      <th></th>\n",
       "      <th>Label</th>\n",
       "      <th>Text</th>\n",
       "    </tr>\n",
       "  </thead>\n",
       "  <tbody>\n",
       "    <tr>\n",
       "      <th>0</th>\n",
       "      <td>ham</td>\n",
       "      <td>Go until jurong point, crazy.. Available only ...</td>\n",
       "    </tr>\n",
       "    <tr>\n",
       "      <th>1</th>\n",
       "      <td>ham</td>\n",
       "      <td>Ok lar... Joking wif u oni...</td>\n",
       "    </tr>\n",
       "    <tr>\n",
       "      <th>2</th>\n",
       "      <td>spam</td>\n",
       "      <td>Free entry in 2 a wkly comp to win FA Cup fina...</td>\n",
       "    </tr>\n",
       "    <tr>\n",
       "      <th>3</th>\n",
       "      <td>ham</td>\n",
       "      <td>U dun say so early hor... U c already then say...</td>\n",
       "    </tr>\n",
       "    <tr>\n",
       "      <th>4</th>\n",
       "      <td>ham</td>\n",
       "      <td>Nah I don't think he goes to usf, he lives aro...</td>\n",
       "    </tr>\n",
       "    <tr>\n",
       "      <th>...</th>\n",
       "      <td>...</td>\n",
       "      <td>...</td>\n",
       "    </tr>\n",
       "    <tr>\n",
       "      <th>5567</th>\n",
       "      <td>spam</td>\n",
       "      <td>This is the 2nd time we have tried 2 contact u...</td>\n",
       "    </tr>\n",
       "    <tr>\n",
       "      <th>5568</th>\n",
       "      <td>ham</td>\n",
       "      <td>Will Ì_ b going to esplanade fr home?</td>\n",
       "    </tr>\n",
       "    <tr>\n",
       "      <th>5569</th>\n",
       "      <td>ham</td>\n",
       "      <td>Pity, * was in mood for that. So...any other s...</td>\n",
       "    </tr>\n",
       "    <tr>\n",
       "      <th>5570</th>\n",
       "      <td>ham</td>\n",
       "      <td>The guy did some bitching but I acted like i'd...</td>\n",
       "    </tr>\n",
       "    <tr>\n",
       "      <th>5571</th>\n",
       "      <td>ham</td>\n",
       "      <td>Rofl. Its true to its name</td>\n",
       "    </tr>\n",
       "  </tbody>\n",
       "</table>\n",
       "<p>5572 rows × 2 columns</p>\n",
       "</div>"
      ],
      "text/plain": [
       "     Label                                               Text\n",
       "0      ham  Go until jurong point, crazy.. Available only ...\n",
       "1      ham                      Ok lar... Joking wif u oni...\n",
       "2     spam  Free entry in 2 a wkly comp to win FA Cup fina...\n",
       "3      ham  U dun say so early hor... U c already then say...\n",
       "4      ham  Nah I don't think he goes to usf, he lives aro...\n",
       "...    ...                                                ...\n",
       "5567  spam  This is the 2nd time we have tried 2 contact u...\n",
       "5568   ham              Will Ì_ b going to esplanade fr home?\n",
       "5569   ham  Pity, * was in mood for that. So...any other s...\n",
       "5570   ham  The guy did some bitching but I acted like i'd...\n",
       "5571   ham                         Rofl. Its true to its name\n",
       "\n",
       "[5572 rows x 2 columns]"
      ]
     },
     "execution_count": 28,
     "metadata": {},
     "output_type": "execute_result"
    }
   ],
   "source": [
    "#Question 4) \n",
    "#a)\n",
    "spam = pd.read_csv('spam.csv',encoding='latin1')\n",
    "spam = spam.drop(columns=['Unnamed: 2','Unnamed: 3','Unnamed: 4'])\n",
    "spam = spam.rename(columns={'v1':'Label','v2':'Text'})\n",
    "print(spam.shape)\n",
    "spam\n",
    "#5572 rows and 2 columns"
   ]
  },
  {
   "cell_type": "code",
   "execution_count": 29,
   "id": "74931d29",
   "metadata": {},
   "outputs": [],
   "source": [
    "spam['Text'] = spam['Text'].apply(lambda x: x.replace('.',' ').replace(',', ' '))\n",
    "spam['Text'] = spam['Text'].apply(lambda x: x.replace(':',' ').replace(';', ' '))\n",
    "spam['Text'] = spam['Text'].apply(lambda x: x.replace('?',' ').replace('!', ' ')) \n",
    "spam['Text'] = spam['Text'].apply(lambda x: x.replace('(',' ').replace(')', ' '))\n",
    "spam['Text'] = spam['Text'].apply(lambda x: x.replace('\"',' ').replace('/', ' '))\n",
    "spam['Text'] = spam['Text'].apply(lambda x: x.lower())"
   ]
  },
  {
   "cell_type": "code",
   "execution_count": 30,
   "id": "a7d9c45b",
   "metadata": {},
   "outputs": [],
   "source": [
    "spam_df = spam[spam['Label']=='spam']\n",
    "ham_df = spam[spam['Label']=='ham']"
   ]
  },
  {
   "cell_type": "code",
   "execution_count": 31,
   "id": "5fea3c96",
   "metadata": {},
   "outputs": [
    {
     "data": {
      "text/plain": [
       "(4825, 747)"
      ]
     },
     "execution_count": 31,
     "metadata": {},
     "output_type": "execute_result"
    }
   ],
   "source": [
    "#b) ham has 4825 rows and spam has 747 rows\n",
    "len(ham_df),len(spam_df)"
   ]
  },
  {
   "cell_type": "code",
   "execution_count": 32,
   "id": "6a7fbcd5",
   "metadata": {},
   "outputs": [
    {
     "data": {
      "text/plain": [
       "0       go until jurong point  crazy   available only ...\n",
       "1                           ok lar    joking wif u oni   \n",
       "3       u dun say so early hor    u c already then say   \n",
       "4       nah i don't think he goes to usf  he lives aro...\n",
       "6       even my brother is not like to speak with me  ...\n",
       "                              ...                        \n",
       "5565                                         huh y lei   \n",
       "5568                will ì_ b going to esplanade fr home \n",
       "5569    pity  * was in mood for that  so   any other s...\n",
       "5570    the guy did some bitching but i acted like i'd...\n",
       "5571                           rofl  its true to its name\n",
       "Name: Text, Length: 4825, dtype: object"
      ]
     },
     "execution_count": 32,
     "metadata": {},
     "output_type": "execute_result"
    }
   ],
   "source": [
    "#c) \n",
    "ham_df['Text']"
   ]
  },
  {
   "cell_type": "code",
   "execution_count": 33,
   "id": "8978c969",
   "metadata": {},
   "outputs": [
    {
     "name": "stderr",
     "output_type": "stream",
     "text": [
      "[nltk_data] Downloading package punkt to\n",
      "[nltk_data]     /Users/joycezhang/nltk_data...\n",
      "[nltk_data]   Package punkt is already up-to-date!\n"
     ]
    },
    {
     "data": {
      "text/plain": [
       "True"
      ]
     },
     "execution_count": 33,
     "metadata": {},
     "output_type": "execute_result"
    }
   ],
   "source": [
    "import nltk\n",
    "nltk.download('punkt')"
   ]
  },
  {
   "cell_type": "code",
   "execution_count": 54,
   "id": "c52233d5",
   "metadata": {},
   "outputs": [],
   "source": [
    "spam_tok = nltk.word_tokenize(spam_df['Text'].astype(str).str.cat(sep = ' '))\n",
    "ham_tok = nltk.word_tokenize(ham_df['Text'].astype(str).str.cat(sep = ' '))"
   ]
  },
  {
   "cell_type": "code",
   "execution_count": 35,
   "id": "6ef4af0b",
   "metadata": {},
   "outputs": [],
   "source": [
    "#d) \n",
    "from nltk.probability import FreqDist\n",
    "spam_freq_dist = nltk.FreqDist(spam_tok) \n",
    "ham_freq_dist = nltk.FreqDist(ham_tok) "
   ]
  },
  {
   "cell_type": "code",
   "execution_count": 36,
   "id": "1ffa62f5",
   "metadata": {},
   "outputs": [
    {
     "name": "stdout",
     "output_type": "stream",
     "text": [
      "0.0021569603451136554\n",
      "0.00015603869759700406\n"
     ]
    }
   ],
   "source": [
    "#e\n",
    "prob_sorry_ham = ham_freq_dist['sorry']/sum(ham_freq_dist.values())\n",
    "prob_sorry_spam = spam_freq_dist['sorry']/sum(spam_freq_dist.values())\n",
    "print(prob_sorry_ham)\n",
    "print(prob_sorry_spam)"
   ]
  },
  {
   "cell_type": "code",
   "execution_count": 37,
   "id": "f9a660e4",
   "metadata": {},
   "outputs": [],
   "source": [
    "#f) \n",
    "import string\n",
    "def message_prob(message, frequency_dict):\n",
    "    message = message.translate(str.maketrans('', '', string.punctuation)).lower()\n",
    "    message_tokens = nltk.word_tokenize(message)\n",
    "    message_freq_dist = FreqDist(message_tokens)\n",
    "    probability = 1.0\n",
    "    for word in message_freq_dist.keys():\n",
    "        # Use Laplace smoothing to handle unseen words, adds one to number so probability is not 0 \n",
    "        prob_word = (frequency_dict[word] + 1) / (sum(frequency_dict.values()) + len(frequency_dict))\n",
    "        probability *= prob_word\n",
    "    return probability"
   ]
  },
  {
   "cell_type": "code",
   "execution_count": 38,
   "id": "e92d4898",
   "metadata": {},
   "outputs": [
    {
     "data": {
      "text/plain": [
       "2.9393363482641084e-33"
      ]
     },
     "execution_count": 38,
     "metadata": {},
     "output_type": "execute_result"
    }
   ],
   "source": [
    "#g)\n",
    "message = 'Sorry my roommates took forever, it ok if I come by now?'\n",
    "message_prob(message,ham_freq_dist)"
   ]
  },
  {
   "cell_type": "code",
   "execution_count": 39,
   "id": "a1123aa9",
   "metadata": {},
   "outputs": [
    {
     "data": {
      "text/plain": [
       "3.0555605796651576e-41"
      ]
     },
     "execution_count": 39,
     "metadata": {},
     "output_type": "execute_result"
    }
   ],
   "source": [
    "message_prob(message,spam_freq_dist)"
   ]
  },
  {
   "cell_type": "code",
   "execution_count": 40,
   "id": "26ea42fb",
   "metadata": {},
   "outputs": [],
   "source": [
    "#h)\n",
    "from math import log\n",
    "def message_log_prob(message,frequency_dict):\n",
    "    message = message.translate(str.maketrans('', '', string.punctuation)).lower()\n",
    "    message_tokens = nltk.word_tokenize(message)\n",
    "    message_freq_dist = FreqDist(message_tokens)\n",
    "    probability = 1.0\n",
    "    for word in message_freq_dist.keys():\n",
    "        # Use Laplace smoothing to handle unseen words, adds one to number so probability is not 0 \n",
    "        prob_word = (frequency_dict[word] + 1) / (sum(frequency_dict.values()) + len(frequency_dict))\n",
    "        probability += np.log(prob_word)\n",
    "    return probability"
   ]
  },
  {
   "cell_type": "code",
   "execution_count": 41,
   "id": "f1d5fae3",
   "metadata": {},
   "outputs": [
    {
     "data": {
      "text/plain": [
       "-73.90712424481715"
      ]
     },
     "execution_count": 41,
     "metadata": {},
     "output_type": "execute_result"
    }
   ],
   "source": [
    "message_log_prob(message,ham_freq_dist)"
   ]
  },
  {
   "cell_type": "code",
   "execution_count": 42,
   "id": "3fae225b",
   "metadata": {},
   "outputs": [
    {
     "data": {
      "text/plain": [
       "-92.28902574116687"
      ]
     },
     "execution_count": 42,
     "metadata": {},
     "output_type": "execute_result"
    }
   ],
   "source": [
    "message_log_prob(message,spam_freq_dist)"
   ]
  },
  {
   "cell_type": "code",
   "execution_count": 43,
   "id": "833f799a",
   "metadata": {},
   "outputs": [
    {
     "data": {
      "text/plain": [
       "18.381901496349712"
      ]
     },
     "execution_count": 43,
     "metadata": {},
     "output_type": "execute_result"
    }
   ],
   "source": [
    "#i) \n",
    "def log_scores(message):\n",
    "    ham = message_log_prob(message,ham_freq_dist)\n",
    "    spam = message_log_prob(message,spam_freq_dist)\n",
    "    return ham-spam\n",
    "\n",
    "#j)\n",
    "log_scores(message)"
   ]
  },
  {
   "cell_type": "code",
   "execution_count": 44,
   "id": "352fb9be",
   "metadata": {},
   "outputs": [
    {
     "name": "stderr",
     "output_type": "stream",
     "text": [
      "/var/folders/vx/48tpbqt12v19v214cg_b117h0000gn/T/ipykernel_5266/3330593803.py:4: SettingWithCopyWarning: \n",
      "A value is trying to be set on a copy of a slice from a DataFrame.\n",
      "Try using .loc[row_indexer,col_indexer] = value instead\n",
      "\n",
      "See the caveats in the documentation: https://pandas.pydata.org/pandas-docs/stable/user_guide/indexing.html#returning-a-view-versus-a-copy\n",
      "  spam_75['scores'] = spam_75['Text'].apply(lambda x: log_scores(x))\n"
     ]
    }
   ],
   "source": [
    "#k) \n",
    "spam['token length'] = spam['Text'].apply(lambda x: len(nltk.word_tokenize(x)))\n",
    "spam_75 = spam.loc[spam['token length']<=75]\n",
    "spam_75['scores'] = spam_75['Text'].apply(lambda x: log_scores(x))"
   ]
  },
  {
   "cell_type": "code",
   "execution_count": 45,
   "id": "a53acb7f",
   "metadata": {},
   "outputs": [
    {
     "data": {
      "text/plain": [
       "(9.19052674801474,\n",
       " -39.43262355951413,\n",
       " -11.474071425468026,\n",
       " -79.2043014425384,\n",
       " 62.038955831798546,\n",
       " 14.51320681964637)"
      ]
     },
     "execution_count": 45,
     "metadata": {},
     "output_type": "execute_result"
    }
   ],
   "source": [
    "ham_scores = spam_75.loc[spam_75['Label']=='ham']['scores']\n",
    "spam_scores = spam_75.loc[spam_75['Label']=='spam']['scores']\n",
    "ham_scores.median(),spam_scores.median(),ham_scores.min(),spam_scores.min(),ham_scores.max(),spam_scores.max()\n",
    "#used stats to discuss distribution below"
   ]
  },
  {
   "cell_type": "code",
   "execution_count": 53,
   "id": "78125574",
   "metadata": {},
   "outputs": [
    {
     "data": {
      "text/plain": [
       "<matplotlib.legend.Legend at 0x13ec6e210>"
      ]
     },
     "execution_count": 53,
     "metadata": {},
     "output_type": "execute_result"
    },
    {
     "data": {
      "image/png": "[encoded data removed]",
      "text/plain": [
       "<Figure size 640x480 with 1 Axes>"
      ]
     },
     "metadata": {},
     "output_type": "display_data"
    }
   ],
   "source": [
    "import seaborn as sns\n",
    "sns.kdeplot(spam_scores,alpha=0.5,fill='True',linewidth=2,label='Spam')\n",
    "sns.kdeplot(ham_scores,alpha=0.5,fill='True',linewidth=2,label='Ham')\n",
    "plt.title(\"Density Plot of Ham vs. Spam Messages' Log Odds Scores\")\n",
    "plt.xlabel('Scores')\n",
    "plt.ylabel('Density')\n",
    "plt.legend()"
   ]
  },
  {
   "cell_type": "markdown",
   "id": "4ce53f46",
   "metadata": {},
   "source": [
    "Ham scores have a much narrower distribution (-11.5,62.0) than spam scores (-79.2,14.51). The distribution for ham is centered around 10, whereas spam scores has a center around -40. This means that the distribution of ham scores has a lower variation than that of the distribution of spam scores. This is good evidence to suppor that the distribution of log odds scores between ham and spam messages are different, although the distributions overlap slightly between -11 and 15. "
   ]
  },
  {
   "cell_type": "code",
   "execution_count": 55,
   "id": "f2d111c3",
   "metadata": {},
   "outputs": [
    {
     "name": "stdout",
     "output_type": "stream",
     "text": [
      "Retrieving notices: ...working... done\n",
      "Collecting package metadata (current_repodata.json): / WARNING conda.models.version:get_matcher(556): Using .* with relational operator is superfluous and deprecated and will be removed in a future version of conda. Your spec was 1.7.1.*, but conda is ignoring the .* and treating it as 1.7.1\n",
      "done\n",
      "Solving environment: done\n",
      "\n",
      "\n",
      "==> WARNING: A newer version of conda exists. <==\n",
      "  current version: 23.9.0\n",
      "  latest version: 23.11.0\n",
      "\n",
      "Please update conda by running\n",
      "\n",
      "    $ conda update -n base -c conda-forge conda\n",
      "\n",
      "Or to minimize the number of packages updated during conda update use\n",
      "\n",
      "     conda install conda=23.11.0\n",
      "\n",
      "\n",
      "\n",
      "# All requested packages already installed.\n",
      "\n",
      "\n",
      "Note: you may need to restart the kernel to use updated packages.\n"
     ]
    }
   ],
   "source": [
    "conda install nbconvert"
   ]
  },
  {
   "cell_type": "code",
   "execution_count": null,
   "id": "8883674d",
   "metadata": {},
   "outputs": [],
   "source": []
  }
 ],
 "metadata": {
  "kernelspec": {
   "display_name": "Python 3 (ipykernel)",
   "language": "python",
   "name": "python3"
  },
  "language_info": {
   "codemirror_mode": {
    "name": "ipython",
    "version": 3
   },
   "file_extension": ".py",
   "mimetype": "text/x-python",
   "name": "python",
   "nbconvert_exporter": "python",
   "pygments_lexer": "ipython3",
   "version": "3.11.5"
  }
 },
 "nbformat": 4,
 "nbformat_minor": 5
}
